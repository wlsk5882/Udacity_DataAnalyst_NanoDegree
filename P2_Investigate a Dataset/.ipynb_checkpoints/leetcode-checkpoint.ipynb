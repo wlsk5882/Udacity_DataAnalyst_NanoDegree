{
 "cells": [
  {
   "cell_type": "code",
   "execution_count": 17,
   "metadata": {
    "collapsed": false
   },
   "outputs": [
    {
     "name": "stdout",
     "output_type": "stream",
     "text": [
      "olleh\n"
     ]
    }
   ],
   "source": [
    "#344\n",
    "\n",
    "class Solution(object):\n",
    "    def reverseString(self, s):\n",
    "        \"\"\"\n",
    "        :type s: str\n",
    "        :rtype: str\n",
    "        \"\"\"\n",
    "        \n",
    "        l = len(s)\n",
    "        reversed=[0]*l\n",
    "        for index in range(l/2):\n",
    "            \n",
    "            reversed[(len(s)-1)-index] = s[index]\n",
    "            reversed[index] = s[(len(s)-1)-index]\n",
    "            \n",
    "        if l%2==1:\n",
    "            reversed[(l+1)/2-1]=s[(l+1)/2-1]\n",
    "        return \"\".join(reversed)\n",
    "\n",
    "a = Solution()\n",
    "print a.reverseString(\"hello\")"
   ]
  },
  {
   "cell_type": "code",
   "execution_count": 20,
   "metadata": {
    "collapsed": false
   },
   "outputs": [
    {
     "name": "stdout",
     "output_type": "stream",
     "text": [
      "True\n"
     ]
    }
   ],
   "source": [
    "# 292. Nim Game\n",
    "class Solution(object):\n",
    "    def canWinNim(self, n):\n",
    "        \"\"\"\n",
    "        :type n: int\n",
    "        :rtype: bool\n",
    "        \"\"\"\n",
    "        decider = n%4\n",
    "        if decider !=0: return True\n",
    "        else : return False\n",
    "\n",
    "a = Solution()\n",
    "print a.canWinNim(2)"
   ]
  },
  {
   "cell_type": "code",
   "execution_count": null,
   "metadata": {
    "collapsed": true
   },
   "outputs": [],
   "source": []
  }
 ],
 "metadata": {
  "kernelspec": {
   "display_name": "Python 2",
   "language": "python",
   "name": "python2"
  },
  "language_info": {
   "codemirror_mode": {
    "name": "ipython",
    "version": 2
   },
   "file_extension": ".py",
   "mimetype": "text/x-python",
   "name": "python",
   "nbconvert_exporter": "python",
   "pygments_lexer": "ipython2",
   "version": "2.7.11"
  }
 },
 "nbformat": 4,
 "nbformat_minor": 0
}
